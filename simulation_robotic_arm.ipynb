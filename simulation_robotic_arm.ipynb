{
 "cells": [
  {
   "cell_type": "markdown",
   "metadata": {},
   "source": [
    "### Predictive Maintenance in the Robotic Arms Industry by applying Digital Twin Technology"
   ]
  },
  {
   "cell_type": "markdown",
   "metadata": {},
   "source": [
    "This is the main working file. It includes a function that simulates a robotic arm. During its operation, there will be irregularities. The applied algorithms will try to detect the irregularities, classify them as anomalies, and set further measures to pinpoint the problematic component."
   ]
  },
  {
   "cell_type": "markdown",
   "metadata": {},
   "source": [
    "## Imports"
   ]
  },
  {
   "cell_type": "markdown",
   "metadata": {},
   "source": [
    "Before running the notebook, make sure that all neccessary modules and programms are correctly installed. Also, I would advise to use Python 3.7.9, since I had troubles running parts of the code with other versions."
   ]
  },
  {
   "cell_type": "code",
   "execution_count": 1,
   "metadata": {},
   "outputs": [],
   "source": [
    "#machine learning\n",
    "import shap\n",
    "import numpy as np\n",
    "import pandas as pd\n",
    "from sklearn.ensemble import RandomForestClassifier\n",
    "from sklearn.model_selection import train_test_split\n",
    "from sklearn.metrics import accuracy_score\n",
    "from sklearn.metrics import precision_score\n",
    "from sklearn.metrics import confusion_matrix\n",
    "from sklearn.inspection import permutation_importance\n",
    "import matplotlib.pyplot as plt\n",
    "import pyspark\n",
    "\n",
    "#azure\n",
    "from azure.digitaltwins.core import DigitalTwinsClient\n",
    "from azure.identity import DefaultAzureCredential\n",
    "from azure.identity import VisualStudioCodeCredential\n",
    "\n",
    "#additional installs\n",
    "import os\n",
    "import time\n",
    "\n",
    "#python scripts\n",
    "import anomaly_detection as ad\n",
    "import digital_twin_azure as dt\n",
    "import predictive_maintenance as pm"
   ]
  },
  {
   "cell_type": "markdown",
   "metadata": {},
   "source": [
    "## Connecting to Azure "
   ]
  },
  {
   "cell_type": "markdown",
   "metadata": {},
   "source": [
    "The following code connects your environment to the Azure platform. A browser window will pop up and you will be asked to login to your microsoft account. This information will then be stored for easy access of to the SDK."
   ]
  },
  {
   "cell_type": "code",
   "execution_count": 2,
   "metadata": {},
   "outputs": [
    {
     "name": "stdout",
     "output_type": "stream",
     "text": [
      "[\n",
      "  {\n",
      "    \"cloudName\": \"AzureCloud\",\n",
      "    \"homeTenantId\": \"0504f721-d451-402b-b884-381428559e39\",\n",
      "    \"id\": \"2320a8eb-1fce-45ea-9dec-ce93cf71ea5c\",\n",
      "    \"isDefault\": true,\n",
      "    \"managedByTenants\": [],\n",
      "    \"name\": \"Azure for Students\",\n",
      "    \"state\": \"Enabled\",\n",
      "    \"tenantId\": \"0504f721-d451-402b-b884-381428559e39\",\n",
      "    \"user\": {\n",
      "      \"name\": \"h1548782@s.wu.ac.at\",\n",
      "      \"type\": \"user\"\n",
      "    }\n",
      "  }\n",
      "]\n"
     ]
    },
    {
     "name": "stderr",
     "output_type": "stream",
     "text": [
      "WARNING: A web browser has been opened at https://login.microsoftonline.com/organizations/oauth2/v2.0/authorize. Please continue the login in the web browser. If no web browser is available or if the web browser fails to open, use device code flow with `az login --use-device-code`.\n",
      "WARNING: The following tenants don't contain accessible subscriptions. Use 'az login --allow-no-subscriptions' to have tenant level access.\n",
      "WARNING: 4b887814-0d97-4226-8bf4-676769f687a9 'BITWISE'\n",
      "WARNING: 75d86db2-c951-4f96-a415-17925d2b695b 'BITWISE'\n",
      "WARNING: 8952d142-0b83-49ac-9a52-57405ac4f5c2 'BITWISE'\n"
     ]
    }
   ],
   "source": [
    "!az login"
   ]
  },
  {
   "cell_type": "markdown",
   "metadata": {},
   "source": [
    "## Credentials"
   ]
  },
  {
   "cell_type": "markdown",
   "metadata": {},
   "source": [
    "The following code chunk uses the credentials received by the previous step. It will build a service client which will be needed to update the Digital Twin, or run certain queries."
   ]
  },
  {
   "cell_type": "code",
   "execution_count": 3,
   "metadata": {},
   "outputs": [],
   "source": [
    "#define the URL of your Digital Twin instance on the Azure platzform\n",
    "url = \"SeleniumForest.api.weu.digitaltwins.azure.net\"\n",
    "\n",
    "#store the gathered credentials in a variable\n",
    "credential = DefaultAzureCredential()\n",
    "#create an instance of the Digital Twin Client\n",
    "#It can be resued later on\n",
    "global service_client\n",
    "service_client = DigitalTwinsClient(url, credential)"
   ]
  },
  {
   "cell_type": "markdown",
   "metadata": {},
   "source": [
    "## Load Data Set"
   ]
  },
  {
   "cell_type": "markdown",
   "metadata": {},
   "source": [
    "Next we will load the data set into a pandas datafram. Make sure that the Data repository exists within the set working directory. "
   ]
  },
  {
   "cell_type": "code",
   "execution_count": 2,
   "metadata": {},
   "outputs": [
    {
     "data": {
      "text/html": [
       "<div>\n",
       "<style scoped>\n",
       "    .dataframe tbody tr th:only-of-type {\n",
       "        vertical-align: middle;\n",
       "    }\n",
       "\n",
       "    .dataframe tbody tr th {\n",
       "        vertical-align: top;\n",
       "    }\n",
       "\n",
       "    .dataframe thead th {\n",
       "        text-align: right;\n",
       "    }\n",
       "</style>\n",
       "<table border=\"1\" class=\"dataframe\">\n",
       "  <thead>\n",
       "    <tr style=\"text-align: right;\">\n",
       "      <th></th>\n",
       "      <th>Timestamp</th>\n",
       "      <th>Actual Joint Positions</th>\n",
       "      <th>Actual Joint Velocities</th>\n",
       "      <th>Actual Joint Currents</th>\n",
       "      <th>Actual Cartesian Coordinates</th>\n",
       "      <th>Actual Tool Speed</th>\n",
       "      <th>Generalized Forces</th>\n",
       "      <th>Temperature of Each Joint</th>\n",
       "      <th>Execution Time</th>\n",
       "      <th>Safety Status</th>\n",
       "      <th>Tool Acceleration</th>\n",
       "      <th>Norm of Cartesion Linear Momentum</th>\n",
       "      <th>Robot Current</th>\n",
       "      <th>Joint Voltages</th>\n",
       "      <th>Elbow Position</th>\n",
       "      <th>Elbow Velocity</th>\n",
       "      <th>Tool Current</th>\n",
       "      <th>Tool Temperature</th>\n",
       "      <th>TCP Force</th>\n",
       "      <th>Anomaly State</th>\n",
       "    </tr>\n",
       "  </thead>\n",
       "  <tbody>\n",
       "    <tr>\n",
       "      <th>0</th>\n",
       "      <td>257258.126</td>\n",
       "      <td>[-1.5707390944110315, -1.5707948964885254, -1....</td>\n",
       "      <td>[0.0, 0.0, 0.0, 0.0, 0.0, 0.0]</td>\n",
       "      <td>[0.18499481678009033, 1.1043120622634888, 1.38...</td>\n",
       "      <td>[-0.133089990415502, -0.4433227297722474, 0.48...</td>\n",
       "      <td>[0.0, 0.0, 0.0, 0.0, 0.0, 0.0]</td>\n",
       "      <td>[-0.015098106867198664, -0.38619858377727334, ...</td>\n",
       "      <td>[34.375, 36.875, 39.6875, 42.8125, 45.0, 45.3125]</td>\n",
       "      <td>0.833027</td>\n",
       "      <td>1</td>\n",
       "      <td>[-9.423578262329102, 0.26815059781074524, 0.11...</td>\n",
       "      <td>0.000000</td>\n",
       "      <td>0.560617</td>\n",
       "      <td>[47.48460006713867, 47.61359786987305, 47.6279...</td>\n",
       "      <td>[-0.07999999993886807, -4.2302395934749395e-06...</td>\n",
       "      <td>[0.0, 0.0, 0.0]</td>\n",
       "      <td>0.069408</td>\n",
       "      <td>39.6250</td>\n",
       "      <td>0.693609</td>\n",
       "      <td>0</td>\n",
       "    </tr>\n",
       "    <tr>\n",
       "      <th>1</th>\n",
       "      <td>257258.176</td>\n",
       "      <td>[-1.5707176367389124, -1.570843359033102, -1.5...</td>\n",
       "      <td>[0.0, 0.0, 0.0, 0.0, 0.0, 0.0]</td>\n",
       "      <td>[0.16534548997879028, 1.0664139986038208, 1.40...</td>\n",
       "      <td>[-0.13308335724829182, -0.44333549960206997, 0...</td>\n",
       "      <td>[0.0, 0.0, 0.0, 0.0, 0.0, 0.0]</td>\n",
       "      <td>[-0.04213328588448917, -0.4293152706290817, 0....</td>\n",
       "      <td>[34.375, 36.875, 39.6875, 42.8125, 45.0, 45.3125]</td>\n",
       "      <td>0.898871</td>\n",
       "      <td>1</td>\n",
       "      <td>[-9.346963882446289, 0.2298433631658554, 0.114...</td>\n",
       "      <td>0.000000</td>\n",
       "      <td>0.497956</td>\n",
       "      <td>[47.5275993347168, 47.64226150512695, 47.65659...</td>\n",
       "      <td>[-0.07999999890089683, -1.7749906051421094e-05...</td>\n",
       "      <td>[0.0, 0.0, 0.0]</td>\n",
       "      <td>0.064909</td>\n",
       "      <td>39.6250</td>\n",
       "      <td>0.685211</td>\n",
       "      <td>0</td>\n",
       "    </tr>\n",
       "    <tr>\n",
       "      <th>2</th>\n",
       "      <td>257258.226</td>\n",
       "      <td>[-1.570730988179342, -1.5708185635008753, -1.5...</td>\n",
       "      <td>[0.0, 0.0, 0.0, -0.010884314775466919, 0.0, 0.0]</td>\n",
       "      <td>[0.1645040214061737, 1.0770467519760132, 1.354...</td>\n",
       "      <td>[-0.13307894938257267, -0.44333179729023336, 0...</td>\n",
       "      <td>[-2.003684872597315e-06, -0.000926684519370717...</td>\n",
       "      <td>[0.05686369196465915, -0.2101876951251029, 0.9...</td>\n",
       "      <td>[34.375, 36.875, 39.6875, 42.8125, 45.0, 45.3125]</td>\n",
       "      <td>1.048140</td>\n",
       "      <td>1</td>\n",
       "      <td>[-9.385271072387695, 0.2298433631658554, 0.191...</td>\n",
       "      <td>0.004019</td>\n",
       "      <td>0.504669</td>\n",
       "      <td>[47.513267517089844, 47.670928955078125, 47.67...</td>\n",
       "      <td>[-0.07999999952532996, -1.0642838973058337e-05...</td>\n",
       "      <td>[0.0, 0.0, 0.0]</td>\n",
       "      <td>0.071274</td>\n",
       "      <td>39.6250</td>\n",
       "      <td>0.944428</td>\n",
       "      <td>0</td>\n",
       "    </tr>\n",
       "    <tr>\n",
       "      <th>3</th>\n",
       "      <td>257258.276</td>\n",
       "      <td>[-1.570660416279928, -1.5707827371409913, -1.5...</td>\n",
       "      <td>[0.0, 0.0, 0.0, -0.08753828704357147, 0.0, 0.0]</td>\n",
       "      <td>[0.18218308687210083, 1.0735350847244263, 1.37...</td>\n",
       "      <td>[-0.13305178855972016, -0.443525353390802, 0.4...</td>\n",
       "      <td>[-1.5362262575268616e-05, -0.00740704821459850...</td>\n",
       "      <td>[0.014812691800918066, -0.0035357919273737524,...</td>\n",
       "      <td>[34.375, 36.875, 39.6875, 42.8125, 45.0, 45.3125]</td>\n",
       "      <td>1.124447</td>\n",
       "      <td>1</td>\n",
       "      <td>[-9.327810287475586, 0.2298433631658554, 0.191...</td>\n",
       "      <td>0.026350</td>\n",
       "      <td>0.506904</td>\n",
       "      <td>[47.55626678466797, 47.713924407958984, 47.670...</td>\n",
       "      <td>[-0.07999999976091744, -7.5630809928628735e-06...</td>\n",
       "      <td>[0.0, 0.0, 0.0]</td>\n",
       "      <td>0.071954</td>\n",
       "      <td>39.6250</td>\n",
       "      <td>0.891657</td>\n",
       "      <td>0</td>\n",
       "    </tr>\n",
       "    <tr>\n",
       "      <th>4</th>\n",
       "      <td>257258.326</td>\n",
       "      <td>[-1.570700470601217, -1.570839067498678, -1.57...</td>\n",
       "      <td>[0.0, 0.0, 0.0, -0.14845426380634308, 0.0, 0.0]</td>\n",
       "      <td>[0.1679745316505432, 1.0931836366653442, 1.374...</td>\n",
       "      <td>[-0.13306762017073243, -0.44405501412764015, 0...</td>\n",
       "      <td>[-2.5524599112393154e-05, -0.01234826561117640...</td>\n",
       "      <td>[-0.0066400665555922875, -0.33964563763481687,...</td>\n",
       "      <td>[34.375, 36.875, 39.6875, 42.75, 45.0, 45.3125]</td>\n",
       "      <td>1.072475</td>\n",
       "      <td>1</td>\n",
       "      <td>[-9.404424667358398, 0.3064578175544739, 0.057...</td>\n",
       "      <td>0.048680</td>\n",
       "      <td>0.457674</td>\n",
       "      <td>[47.55626678466797, 47.670928955078125, 47.685...</td>\n",
       "      <td>[-0.07999999868460166, -1.8077993842428327e-05...</td>\n",
       "      <td>[0.0, 0.0, 0.0]</td>\n",
       "      <td>0.066182</td>\n",
       "      <td>39.6875</td>\n",
       "      <td>0.750271</td>\n",
       "      <td>0</td>\n",
       "    </tr>\n",
       "  </tbody>\n",
       "</table>\n",
       "</div>"
      ],
      "text/plain": [
       "    Timestamp                             Actual Joint Positions  \\\n",
       "0  257258.126  [-1.5707390944110315, -1.5707948964885254, -1....   \n",
       "1  257258.176  [-1.5707176367389124, -1.570843359033102, -1.5...   \n",
       "2  257258.226  [-1.570730988179342, -1.5708185635008753, -1.5...   \n",
       "3  257258.276  [-1.570660416279928, -1.5707827371409913, -1.5...   \n",
       "4  257258.326  [-1.570700470601217, -1.570839067498678, -1.57...   \n",
       "\n",
       "                            Actual Joint Velocities  \\\n",
       "0                    [0.0, 0.0, 0.0, 0.0, 0.0, 0.0]   \n",
       "1                    [0.0, 0.0, 0.0, 0.0, 0.0, 0.0]   \n",
       "2  [0.0, 0.0, 0.0, -0.010884314775466919, 0.0, 0.0]   \n",
       "3   [0.0, 0.0, 0.0, -0.08753828704357147, 0.0, 0.0]   \n",
       "4   [0.0, 0.0, 0.0, -0.14845426380634308, 0.0, 0.0]   \n",
       "\n",
       "                               Actual Joint Currents  \\\n",
       "0  [0.18499481678009033, 1.1043120622634888, 1.38...   \n",
       "1  [0.16534548997879028, 1.0664139986038208, 1.40...   \n",
       "2  [0.1645040214061737, 1.0770467519760132, 1.354...   \n",
       "3  [0.18218308687210083, 1.0735350847244263, 1.37...   \n",
       "4  [0.1679745316505432, 1.0931836366653442, 1.374...   \n",
       "\n",
       "                        Actual Cartesian Coordinates  \\\n",
       "0  [-0.133089990415502, -0.4433227297722474, 0.48...   \n",
       "1  [-0.13308335724829182, -0.44333549960206997, 0...   \n",
       "2  [-0.13307894938257267, -0.44333179729023336, 0...   \n",
       "3  [-0.13305178855972016, -0.443525353390802, 0.4...   \n",
       "4  [-0.13306762017073243, -0.44405501412764015, 0...   \n",
       "\n",
       "                                   Actual Tool Speed  \\\n",
       "0                     [0.0, 0.0, 0.0, 0.0, 0.0, 0.0]   \n",
       "1                     [0.0, 0.0, 0.0, 0.0, 0.0, 0.0]   \n",
       "2  [-2.003684872597315e-06, -0.000926684519370717...   \n",
       "3  [-1.5362262575268616e-05, -0.00740704821459850...   \n",
       "4  [-2.5524599112393154e-05, -0.01234826561117640...   \n",
       "\n",
       "                                  Generalized Forces  \\\n",
       "0  [-0.015098106867198664, -0.38619858377727334, ...   \n",
       "1  [-0.04213328588448917, -0.4293152706290817, 0....   \n",
       "2  [0.05686369196465915, -0.2101876951251029, 0.9...   \n",
       "3  [0.014812691800918066, -0.0035357919273737524,...   \n",
       "4  [-0.0066400665555922875, -0.33964563763481687,...   \n",
       "\n",
       "                           Temperature of Each Joint  Execution Time  \\\n",
       "0  [34.375, 36.875, 39.6875, 42.8125, 45.0, 45.3125]        0.833027   \n",
       "1  [34.375, 36.875, 39.6875, 42.8125, 45.0, 45.3125]        0.898871   \n",
       "2  [34.375, 36.875, 39.6875, 42.8125, 45.0, 45.3125]        1.048140   \n",
       "3  [34.375, 36.875, 39.6875, 42.8125, 45.0, 45.3125]        1.124447   \n",
       "4    [34.375, 36.875, 39.6875, 42.75, 45.0, 45.3125]        1.072475   \n",
       "\n",
       "   Safety Status                                  Tool Acceleration  \\\n",
       "0              1  [-9.423578262329102, 0.26815059781074524, 0.11...   \n",
       "1              1  [-9.346963882446289, 0.2298433631658554, 0.114...   \n",
       "2              1  [-9.385271072387695, 0.2298433631658554, 0.191...   \n",
       "3              1  [-9.327810287475586, 0.2298433631658554, 0.191...   \n",
       "4              1  [-9.404424667358398, 0.3064578175544739, 0.057...   \n",
       "\n",
       "   Norm of Cartesion Linear Momentum  Robot Current  \\\n",
       "0                           0.000000       0.560617   \n",
       "1                           0.000000       0.497956   \n",
       "2                           0.004019       0.504669   \n",
       "3                           0.026350       0.506904   \n",
       "4                           0.048680       0.457674   \n",
       "\n",
       "                                      Joint Voltages  \\\n",
       "0  [47.48460006713867, 47.61359786987305, 47.6279...   \n",
       "1  [47.5275993347168, 47.64226150512695, 47.65659...   \n",
       "2  [47.513267517089844, 47.670928955078125, 47.67...   \n",
       "3  [47.55626678466797, 47.713924407958984, 47.670...   \n",
       "4  [47.55626678466797, 47.670928955078125, 47.685...   \n",
       "\n",
       "                                      Elbow Position   Elbow Velocity  \\\n",
       "0  [-0.07999999993886807, -4.2302395934749395e-06...  [0.0, 0.0, 0.0]   \n",
       "1  [-0.07999999890089683, -1.7749906051421094e-05...  [0.0, 0.0, 0.0]   \n",
       "2  [-0.07999999952532996, -1.0642838973058337e-05...  [0.0, 0.0, 0.0]   \n",
       "3  [-0.07999999976091744, -7.5630809928628735e-06...  [0.0, 0.0, 0.0]   \n",
       "4  [-0.07999999868460166, -1.8077993842428327e-05...  [0.0, 0.0, 0.0]   \n",
       "\n",
       "   Tool Current  Tool Temperature  TCP Force  Anomaly State  \n",
       "0      0.069408           39.6250   0.693609              0  \n",
       "1      0.064909           39.6250   0.685211              0  \n",
       "2      0.071274           39.6250   0.944428              0  \n",
       "3      0.071954           39.6250   0.891657              0  \n",
       "4      0.066182           39.6875   0.750271              0  "
      ]
     },
     "execution_count": 2,
     "metadata": {},
     "output_type": "execute_result"
    }
   ],
   "source": [
    "#store the CSV content in a dataframe\n",
    "df = pd.read_csv('./Data/right_arm.csv')\n",
    "df.head()"
   ]
  },
  {
   "cell_type": "markdown",
   "metadata": {},
   "source": [
    "## Pre-Processing"
   ]
  },
  {
   "cell_type": "markdown",
   "metadata": {},
   "source": [
    "This section will cover the pre-processing of the available dataframe. First, all blank spaces within the column names will be replaced by underlines. This will make working with the names a lot easier, as it allows for simple copy and paste shortcuts and avoid processing errors. Furthermore, the function extract_every_nth_row() can be used to reduce the proccessing time. It extracts every n´th row of the dataframe. Since one might run low computational resources, n can be adjusted to personal preferences or skipped entirely. \n",
    "\n",
    "Furthermore, there will  be a train and test split of all defined features and the target. Lastly, the index will be reseted."
   ]
  },
  {
   "cell_type": "code",
   "execution_count": 3,
   "metadata": {},
   "outputs": [],
   "source": [
    "#replace blank spaces in the column names with '_'\n",
    "df.columns = df.columns.str.replace(' ', '_')\n",
    "\n",
    "#use only required columns\n",
    "df = df[['Norm_of_Cartesion_Linear_Momentum', 'Robot_Current', 'Tool_Current', 'Tool_Temperature', 'TCP_Force', 'Anomaly_State']]\n",
    "\n",
    "################################\n",
    "##make it smaller for testing###\n",
    "#since the dataset is quite big \n",
    "#one can keep this code block, to\n",
    "#shrink the dataset#############\n",
    "def extract_every_nth_row(df, n):\n",
    "    new_df = df.iloc[::n].copy()\n",
    "    return new_df\n",
    "\n",
    "n = 100\n",
    "\n",
    "df = extract_every_nth_row(df, n)\n",
    "################################\n",
    "################################\n",
    "\n",
    "#seperate the features and the target\n",
    "#X and y \n",
    "#features\n",
    "X = df[['Norm_of_Cartesion_Linear_Momentum', 'Robot_Current', 'Tool_Current', 'Tool_Temperature', 'TCP_Force']]\n",
    "#target\n",
    "y = df['Anomaly_State'] \n",
    "\n",
    "#Train & Test Split\n",
    "#for now the testsize is 20% of the total dataset\n",
    "X_train, X_test, y_train, y_test = train_test_split(X, y, test_size=0.2, random_state=42)\n",
    "\n",
    "#reset the index to make the subsets iterateable again\n",
    "X_train = X_train.reset_index(drop=True)\n",
    "X_test = X_test.reset_index(drop=True)\n",
    "y_train = y_train.reset_index(drop=True)\n",
    "y_test = y_test.reset_index(drop=True)"
   ]
  },
  {
   "cell_type": "markdown",
   "metadata": {},
   "source": [
    "## Simulation"
   ]
  },
  {
   "cell_type": "markdown",
   "metadata": {},
   "source": [
    "The following code will focus on creating and running the simulation. The function start_machine() contains all previously created python scripts. By running start_machine() the function will simulate the startup of the robotic arm. Sensory data coming from teh simulation data set will be received. \n",
    "\n",
    "First, the code will make sure that the environment is correctly connected to the Azure instance. A browser window might pop-up and you will be asked to login with your personal credentials. Next, train_model() will be used to build a random forest prediction model. After that step is completed, simulated robotic arm will start sending sensory data to the digital environment. By running predict_model(), the algorithm will predict the current anomaly state for the machine given the pre-trained model. After that, the received prediction will be sent to the Digital Twin together with all received sensory data. Additionally, a dashboard-like plot will be displayed, showing all current workloads and the machines anomaly state. In case an anomaly is detected, an alarm will pop-up notifing the user. Furthermore, a SHAP bar plot will appear. This plot will show which component was relevant for the algorithm´s predictions. Domain-expert therefore, can take a closer look at the identified faulty components. \n",
    "\n",
    "This can be done untill the simulation data runs out, or the process has reached the predefined threshold (see \"set iterations for simulation run\").  "
   ]
  },
  {
   "cell_type": "code",
   "execution_count": 16,
   "metadata": {},
   "outputs": [],
   "source": [
    "def start_machine(model_name: str, df, df_sim, index):\n",
    "        print('Connecting to the Azure platform...')\n",
    "        service_client = dt.connect_azure()\n",
    "        \n",
    "        print('Machine starting up...')\n",
    "        print('Training ML algorithm...')\n",
    "        rf = ad.train_model(X_train, X_test, y_train, y_test)\n",
    "        \n",
    "        print('Model has been trained')\n",
    "        \n",
    "        #set as global to calculate resulting scores\n",
    "        global y_predicted\n",
    "        \n",
    "        #set empty list to store predictions\n",
    "        y_predicted_list = []\n",
    "\n",
    "        #set iterations for simulation run\n",
    "        while index < 5:\n",
    "                y_predicted = ad.predict_model(X_test, index, rf)\n",
    "                y_predicted_list.append(y_predicted)\n",
    "                dt.update_machine('RoboArm', X_test, index, y_predicted)\n",
    "                dt.plot_twin_state()\n",
    "                \n",
    "                if y_predicted == 1:\n",
    "                        print('Anomaly detected!')\n",
    "                else:\n",
    "                        print('No anomalie detected.')\n",
    "                \n",
    "                index += 1\n",
    "        \n",
    "        print('Simulation complete. Generate SHAP beeswarm and partial dependence plot...')\n",
    "        \n",
    "        #Generate beeswarm plot\n",
    "        #beeswarm_plot = pm.create_shap_beeswarm_all(rf, X_test, y_predicted_list)\n",
    "        model = RandomForestClassifier(n_estimators=100, random_state=42)\n",
    "        model.fit(X_train, y_train)\n",
    "        y_predicted = model.predict(X_test)\n",
    "\n",
    "        explainer = shap.Explainer(model)\n",
    "        shap_values = explainer(X_test)\n",
    "\n",
    "        positive_indices = np.where(y_predicted == 1)[0]\n",
    "        shap_values_positive = shap_values[positive_indices, :, 1]\n",
    "\n",
    "        beeswarm = shap.plots.beeswarm(shap_values_positive)\n",
    "        \n",
    "        #Generate partial dependence plot\n",
    "        #This code generates a SHAP partial dependence plot for a specific instance.\n",
    "        #The instance can be chosen by chaning the sample_ind value.\n",
    "        sample_ind = 0\n",
    "        pdp = shap.partial_dependence_plot(\n",
    "           \"Tool_Temperature\", model.predict, X_test, model_expected_value=True,\n",
    "            feature_expected_value=True, ice=False,\n",
    "            shap_values=shap_values_positive[sample_ind:sample_ind+1,:]\n",
    "        )\n",
    "                \n",
    "        return beeswarm, pdp"
   ]
  },
  {
   "cell_type": "markdown",
   "metadata": {},
   "source": [
    "The following code chunk will start the machine. By defining the initial index the starting point within the simulation data set can be chosen. In this case, the X_test set was used as the simulation dataset, giving the possibility to compare prediction results with actual anomalies.\n",
    "\n",
    "It is worth mentioning, that SHAP might have issues displaying the plot due to interdepenencies to other plot modules. For most cases, the shap.initjs() should fix this issue. However, if the issue still occurs I would recommend storing the plot as a jpg or png and open it manually on your machine instead of within the IDE."
   ]
  },
  {
   "cell_type": "code",
   "execution_count": 17,
   "metadata": {},
   "outputs": [
    {
     "name": "stdout",
     "output_type": "stream",
     "text": [
      "No anomalie detected.\n",
      "Simulation complete. Generate SHAP beeswarm and partial dependence plot...\n"
     ]
    },
    {
     "data": {
      "text/plain": [
       "(None, None)"
      ]
     },
     "execution_count": 17,
     "metadata": {},
     "output_type": "execute_result"
    }
   ],
   "source": [
    "#set starting index for simulation data set\n",
    "index = 0\n",
    "df = df\n",
    "X_test\n",
    "shap.initjs()\n",
    "\n",
    "start_machine('RoboArm', df, X_test, index)"
   ]
  },
  {
   "cell_type": "markdown",
   "metadata": {},
   "source": [
    "### Simulation Results\n",
    "The following code can be used to make working and evaluating the digital twin´s performance a bit easier. "
   ]
  },
  {
   "cell_type": "code",
   "execution_count": null,
   "metadata": {},
   "outputs": [],
   "source": [
    "###SIMULATION NO VISUALIZATIONS to calculate simulation results\n",
    "#this runs the previous defined function\n",
    "#plots are commented out\n",
    "#also stores all generated predictions for performance metrics calculation\n",
    "#be aware that running through the simulation will take about 10min\n",
    "def start_machine(model_name: str, df, df_sim, index):\n",
    "    print('Connecting to the Azure platform...')\n",
    "    service_client = dt.connect_azure()\n",
    "\n",
    "    print('Machine starting up...')\n",
    "    print('Training ML Algorithm...')\n",
    "    rf = ad.train_model(X_train, X_test, y_train, y_test)\n",
    "\n",
    "    print('Model has been trained')\n",
    "\n",
    "    # Create an empty list to store the prediction results\n",
    "    global prediction_results\n",
    "    prediction_results = []\n",
    "\n",
    "    # set iterations for simulation run\n",
    "    while index < 200:\n",
    "        y_predicted = ad.predict_model(X_test, index, rf)\n",
    "        dt.update_machine('RoboArm', X_test, index, y_predicted)\n",
    "        #dt.plot_twin_state()\n",
    "\n",
    "        # Append the predicted value to the list\n",
    "        prediction_results.append(y_predicted)\n",
    "\n",
    "        if y_predicted == 1:\n",
    "            print('Anomaly detected! Print SHAP plot...')\n",
    "            #pm.explain_prediction(X_test, index, rf)\n",
    "        else:\n",
    "            print('No anomaly detected.')\n",
    "\n",
    "        index += 1\n",
    "        \n",
    "    #pm.shap_test(X_test, index, rf) #####delete tghis afterwards    \n",
    "    \n",
    "\n",
    "    return prediction_results"
   ]
  },
  {
   "cell_type": "code",
   "execution_count": null,
   "metadata": {},
   "outputs": [
    {
     "ename": "NameError",
     "evalue": "name 'prediction_results' is not defined",
     "output_type": "error",
     "traceback": [
      "\u001b[1;31m---------------------------------------------------------------------------\u001b[0m",
      "\u001b[1;31mNameError\u001b[0m                                 Traceback (most recent call last)",
      "\u001b[1;32m~\\AppData\\Local\\Temp\\ipykernel_17968\\1110540145.py\u001b[0m in \u001b[0;36m<module>\u001b[1;34m\u001b[0m\n\u001b[1;32m----> 1\u001b[1;33m \u001b[0mcm\u001b[0m \u001b[1;33m=\u001b[0m \u001b[0mconfusion_matrix\u001b[0m\u001b[1;33m(\u001b[0m\u001b[0my_test\u001b[0m\u001b[1;33m,\u001b[0m \u001b[0mprediction_results\u001b[0m\u001b[1;33m)\u001b[0m\u001b[1;33m\u001b[0m\u001b[1;33m\u001b[0m\u001b[0m\n\u001b[0m\u001b[0;32m      2\u001b[0m \u001b[0mprint\u001b[0m\u001b[1;33m(\u001b[0m\u001b[1;34m\"Confusion Matrix:\"\u001b[0m\u001b[1;33m)\u001b[0m\u001b[1;33m\u001b[0m\u001b[1;33m\u001b[0m\u001b[0m\n\u001b[0;32m      3\u001b[0m \u001b[0mprint\u001b[0m\u001b[1;33m(\u001b[0m\u001b[0mcm\u001b[0m\u001b[1;33m)\u001b[0m\u001b[1;33m\u001b[0m\u001b[1;33m\u001b[0m\u001b[0m\n\u001b[0;32m      4\u001b[0m \u001b[1;33m\u001b[0m\u001b[0m\n\u001b[0;32m      5\u001b[0m \u001b[1;31m#Accuracy of Simulation\u001b[0m\u001b[1;33m\u001b[0m\u001b[1;33m\u001b[0m\u001b[1;33m\u001b[0m\u001b[0m\n",
      "\u001b[1;31mNameError\u001b[0m: name 'prediction_results' is not defined"
     ]
    }
   ],
   "source": [
    "cm = confusion_matrix(y_test, prediction_results)\n",
    "print(\"Confusion Matrix:\")\n",
    "print(cm)\n",
    "\n",
    "#Accuracy of Simulation\n",
    "accuracy = accuracy_score(y_test, prediction_results)\n",
    "print(\"Accuracy:\", accuracy)\n",
    "\n",
    "#Precision of Simulation\n",
    "precision = precision_score (y_test, prediction_results)\n",
    "print(\"Precision:\", precision)\n",
    "\n",
    "\n",
    "comparison_df = pd.DataFrame({\n",
    "        'y_test': y_test, \n",
    "        'prediction_results': prediction_results\n",
    "    })\n",
    "comparison_df.head(50)"
   ]
  },
  {
   "cell_type": "markdown",
   "metadata": {},
   "source": [
    "### Beeswarm Plot to visualize SHAP values during Simulation"
   ]
  },
  {
   "cell_type": "code",
   "execution_count": 4,
   "metadata": {},
   "outputs": [],
   "source": [
    "#This code will print a SHAP beeswarm plot of the simulation data (X_test)\n",
    "model = RandomForestClassifier(n_estimators=100, random_state=42)\n",
    "model.fit(X_train, y_train)\n",
    "y_predicted = model.predict(X_test)\n",
    "\n",
    "explainer = shap.Explainer(model)\n",
    "shap_values = explainer(X_test)\n",
    "\n",
    "positive_indices = np.where(y_predicted == 1)[0]\n",
    "shap_values_positive = shap_values[positive_indices, :, 1]\n",
    "\n",
    "shap.plots.beeswarm(shap_values_positive, plot_size=(10, 6))"
   ]
  },
  {
   "cell_type": "markdown",
   "metadata": {},
   "source": [
    "### Partial Dependence Plot "
   ]
  },
  {
   "cell_type": "code",
   "execution_count": 11,
   "metadata": {},
   "outputs": [],
   "source": [
    "#This code generates a SHAP partial dependence plot for a specific instance.\n",
    "#The instance can be chosen by chaning the sample_ind value.\n",
    "sample_ind = 0\n",
    "shap.partial_dependence_plot(\n",
    "    \"Tool_Temperature\", model.predict, X_test, model_expected_value=True,\n",
    "    feature_expected_value=True, ice=False,\n",
    "    shap_values=shap_values_positive[sample_ind:sample_ind+1,:]\n",
    ")"
   ]
  },
  {
   "cell_type": "code",
   "execution_count": 12,
   "metadata": {},
   "outputs": [
    {
     "data": {
      "text/plain": [
       "(3526, 5)"
      ]
     },
     "execution_count": 12,
     "metadata": {},
     "output_type": "execute_result"
    }
   ],
   "source": [
    "X_test.shape"
   ]
  }
 ],
 "metadata": {
  "kernelspec": {
   "display_name": "Python 3",
   "language": "python",
   "name": "python3"
  },
  "language_info": {
   "codemirror_mode": {
    "name": "ipython",
    "version": 3
   },
   "file_extension": ".py",
   "mimetype": "text/x-python",
   "name": "python",
   "nbconvert_exporter": "python",
   "pygments_lexer": "ipython3",
   "version": "3.7.9"
  },
  "orig_nbformat": 4
 },
 "nbformat": 4,
 "nbformat_minor": 2
}
