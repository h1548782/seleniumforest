{
 "cells": [
  {
   "cell_type": "markdown",
   "metadata": {},
   "source": [
    "### Predictive Maintenance in the Robotic Arms Industry by applying Digital Twin Technology"
   ]
  },
  {
   "cell_type": "markdown",
   "metadata": {},
   "source": [
    "This is the main working file. It includes a function that simulates a robotic arm. During its operation, there will be irregularities. The applied algorithms will try to detect the irregularities, classify them as anomalies, and set further measures to pinpoint the problematic component."
   ]
  },
  {
   "cell_type": "markdown",
   "metadata": {},
   "source": [
    "## Imports"
   ]
  },
  {
   "cell_type": "markdown",
   "metadata": {},
   "source": [
    "Before running the notebook, make sure that all neccessary modules and programms are correctly installed. Also, I would advise to use Python 3.7.9, since I had troubles running parts of the code with other versions."
   ]
  },
  {
   "cell_type": "code",
   "execution_count": 1,
   "metadata": {},
   "outputs": [],
   "source": [
    "#machine learning\n",
    "import shap\n",
    "import numpy as np\n",
    "import pandas as pd\n",
    "from sklearn.ensemble import RandomForestClassifier\n",
    "from sklearn.model_selection import train_test_split\n",
    "from sklearn.metrics import accuracy_score\n",
    "from sklearn.metrics import precision_score\n",
    "from sklearn.metrics import f1_score\n",
    "from sklearn.metrics import f1_score\n",
    "from sklearn.metrics import confusion_matrix\n",
    "from sklearn.inspection import permutation_importance\n",
    "import matplotlib.pyplot as plt\n",
    "import pyspark\n",
    "\n",
    "#azure\n",
    "from azure.digitaltwins.core import DigitalTwinsClient\n",
    "from azure.identity import DefaultAzureCredential\n",
    "from azure.identity import VisualStudioCodeCredential\n",
    "\n",
    "#additional installs\n",
    "import os\n",
    "import time\n",
    "\n",
    "#python scripts\n",
    "import anomaly_detection as ad\n",
    "import digital_twin_azure as dt\n",
    "import predictive_maintenance as pm"
   ]
  },
  {
   "cell_type": "markdown",
   "metadata": {},
   "source": [
    "## Connecting to Azure "
   ]
  },
  {
   "cell_type": "markdown",
   "metadata": {},
   "source": [
    "The following code connects your environment to the Azure platform. A browser window will pop up and you will be asked to login to your microsoft account. This information will then be stored for easy access of to the SDK."
   ]
  },
  {
   "cell_type": "code",
   "execution_count": 2,
   "metadata": {},
   "outputs": [
    {
     "name": "stdout",
     "output_type": "stream",
     "text": [
      "[\n",
      "  {\n",
      "    \"cloudName\": \"AzureCloud\",\n",
      "    \"homeTenantId\": \"0504f721-d451-402b-b884-381428559e39\",\n",
      "    \"id\": \"2320a8eb-1fce-45ea-9dec-ce93cf71ea5c\",\n",
      "    \"isDefault\": true,\n",
      "    \"managedByTenants\": [],\n",
      "    \"name\": \"Azure for Students\",\n",
      "    \"state\": \"Enabled\",\n",
      "    \"tenantId\": \"0504f721-d451-402b-b884-381428559e39\",\n",
      "    \"user\": {\n",
      "      \"name\": \"h1548782@s.wu.ac.at\",\n",
      "      \"type\": \"user\"\n",
      "    }\n",
      "  }\n",
      "]\n"
     ]
    },
    {
     "name": "stderr",
     "output_type": "stream",
     "text": [
      "WARNING: A web browser has been opened at https://login.microsoftonline.com/organizations/oauth2/v2.0/authorize. Please continue the login in the web browser. If no web browser is available or if the web browser fails to open, use device code flow with `az login --use-device-code`.\n",
      "WARNING: The following tenants don't contain accessible subscriptions. Use 'az login --allow-no-subscriptions' to have tenant level access.\n",
      "WARNING: 4b887814-0d97-4226-8bf4-676769f687a9 'BITWISE'\n",
      "WARNING: 75d86db2-c951-4f96-a415-17925d2b695b 'BITWISE'\n",
      "WARNING: 8952d142-0b83-49ac-9a52-57405ac4f5c2 'BITWISE'\n"
     ]
    }
   ],
   "source": [
    "!az login"
   ]
  },
  {
   "cell_type": "markdown",
   "metadata": {},
   "source": [
    "## Credentials"
   ]
  },
  {
   "cell_type": "markdown",
   "metadata": {},
   "source": [
    "The following code chunk uses the credentials received by the previous step. It will build a service client which will be needed to update the Digital Twin, or run certain queries."
   ]
  },
  {
   "cell_type": "code",
   "execution_count": 3,
   "metadata": {},
   "outputs": [],
   "source": [
    "#define the URL of your Digital Twin instance on the Azure platzform\n",
    "url = \"SeleniumForest.api.weu.digitaltwins.azure.net\"\n",
    "\n",
    "#store the gathered credentials in a variable\n",
    "credential = DefaultAzureCredential()\n",
    "#create an instance of the Digital Twin Client\n",
    "#It can be resued later on\n",
    "global service_client\n",
    "service_client = DigitalTwinsClient(url, credential)"
   ]
  },
  {
   "cell_type": "markdown",
   "metadata": {},
   "source": [
    "## Load Data Set"
   ]
  },
  {
   "cell_type": "markdown",
   "metadata": {},
   "source": [
    "Next we will load the data set into a pandas datafram. Make sure that the Data repository exists within the set working directory. "
   ]
  },
  {
   "cell_type": "code",
   "execution_count": 4,
   "metadata": {},
   "outputs": [
    {
     "data": {
      "text/html": [
       "<div>\n",
       "<style scoped>\n",
       "    .dataframe tbody tr th:only-of-type {\n",
       "        vertical-align: middle;\n",
       "    }\n",
       "\n",
       "    .dataframe tbody tr th {\n",
       "        vertical-align: top;\n",
       "    }\n",
       "\n",
       "    .dataframe thead th {\n",
       "        text-align: right;\n",
       "    }\n",
       "</style>\n",
       "<table border=\"1\" class=\"dataframe\">\n",
       "  <thead>\n",
       "    <tr style=\"text-align: right;\">\n",
       "      <th></th>\n",
       "      <th>Timestamp</th>\n",
       "      <th>Actual Joint Positions</th>\n",
       "      <th>Actual Joint Velocities</th>\n",
       "      <th>Actual Joint Currents</th>\n",
       "      <th>Actual Cartesian Coordinates</th>\n",
       "      <th>Actual Tool Speed</th>\n",
       "      <th>Generalized Forces</th>\n",
       "      <th>Temperature of Each Joint</th>\n",
       "      <th>Execution Time</th>\n",
       "      <th>Safety Status</th>\n",
       "      <th>Tool Acceleration</th>\n",
       "      <th>Norm of Cartesion Linear Momentum</th>\n",
       "      <th>Robot Current</th>\n",
       "      <th>Joint Voltages</th>\n",
       "      <th>Elbow Position</th>\n",
       "      <th>Elbow Velocity</th>\n",
       "      <th>Tool Current</th>\n",
       "      <th>Tool Temperature</th>\n",
       "      <th>TCP Force</th>\n",
       "      <th>Anomaly State</th>\n",
       "    </tr>\n",
       "  </thead>\n",
       "  <tbody>\n",
       "    <tr>\n",
       "      <th>0</th>\n",
       "      <td>257258.126</td>\n",
       "      <td>[-1.5707390944110315, -1.5707948964885254, -1....</td>\n",
       "      <td>[0.0, 0.0, 0.0, 0.0, 0.0, 0.0]</td>\n",
       "      <td>[0.18499481678009033, 1.1043120622634888, 1.38...</td>\n",
       "      <td>[-0.133089990415502, -0.4433227297722474, 0.48...</td>\n",
       "      <td>[0.0, 0.0, 0.0, 0.0, 0.0, 0.0]</td>\n",
       "      <td>[-0.015098106867198664, -0.38619858377727334, ...</td>\n",
       "      <td>[34.375, 36.875, 39.6875, 42.8125, 45.0, 45.3125]</td>\n",
       "      <td>0.833027</td>\n",
       "      <td>1</td>\n",
       "      <td>[-9.423578262329102, 0.26815059781074524, 0.11...</td>\n",
       "      <td>0.000000</td>\n",
       "      <td>0.560617</td>\n",
       "      <td>[47.48460006713867, 47.61359786987305, 47.6279...</td>\n",
       "      <td>[-0.07999999993886807, -4.2302395934749395e-06...</td>\n",
       "      <td>[0.0, 0.0, 0.0]</td>\n",
       "      <td>0.069408</td>\n",
       "      <td>39.6250</td>\n",
       "      <td>0.693609</td>\n",
       "      <td>0</td>\n",
       "    </tr>\n",
       "    <tr>\n",
       "      <th>1</th>\n",
       "      <td>257258.176</td>\n",
       "      <td>[-1.5707176367389124, -1.570843359033102, -1.5...</td>\n",
       "      <td>[0.0, 0.0, 0.0, 0.0, 0.0, 0.0]</td>\n",
       "      <td>[0.16534548997879028, 1.0664139986038208, 1.40...</td>\n",
       "      <td>[-0.13308335724829182, -0.44333549960206997, 0...</td>\n",
       "      <td>[0.0, 0.0, 0.0, 0.0, 0.0, 0.0]</td>\n",
       "      <td>[-0.04213328588448917, -0.4293152706290817, 0....</td>\n",
       "      <td>[34.375, 36.875, 39.6875, 42.8125, 45.0, 45.3125]</td>\n",
       "      <td>0.898871</td>\n",
       "      <td>1</td>\n",
       "      <td>[-9.346963882446289, 0.2298433631658554, 0.114...</td>\n",
       "      <td>0.000000</td>\n",
       "      <td>0.497956</td>\n",
       "      <td>[47.5275993347168, 47.64226150512695, 47.65659...</td>\n",
       "      <td>[-0.07999999890089683, -1.7749906051421094e-05...</td>\n",
       "      <td>[0.0, 0.0, 0.0]</td>\n",
       "      <td>0.064909</td>\n",
       "      <td>39.6250</td>\n",
       "      <td>0.685211</td>\n",
       "      <td>0</td>\n",
       "    </tr>\n",
       "    <tr>\n",
       "      <th>2</th>\n",
       "      <td>257258.226</td>\n",
       "      <td>[-1.570730988179342, -1.5708185635008753, -1.5...</td>\n",
       "      <td>[0.0, 0.0, 0.0, -0.010884314775466919, 0.0, 0.0]</td>\n",
       "      <td>[0.1645040214061737, 1.0770467519760132, 1.354...</td>\n",
       "      <td>[-0.13307894938257267, -0.44333179729023336, 0...</td>\n",
       "      <td>[-2.003684872597315e-06, -0.000926684519370717...</td>\n",
       "      <td>[0.05686369196465915, -0.2101876951251029, 0.9...</td>\n",
       "      <td>[34.375, 36.875, 39.6875, 42.8125, 45.0, 45.3125]</td>\n",
       "      <td>1.048140</td>\n",
       "      <td>1</td>\n",
       "      <td>[-9.385271072387695, 0.2298433631658554, 0.191...</td>\n",
       "      <td>0.004019</td>\n",
       "      <td>0.504669</td>\n",
       "      <td>[47.513267517089844, 47.670928955078125, 47.67...</td>\n",
       "      <td>[-0.07999999952532996, -1.0642838973058337e-05...</td>\n",
       "      <td>[0.0, 0.0, 0.0]</td>\n",
       "      <td>0.071274</td>\n",
       "      <td>39.6250</td>\n",
       "      <td>0.944428</td>\n",
       "      <td>0</td>\n",
       "    </tr>\n",
       "    <tr>\n",
       "      <th>3</th>\n",
       "      <td>257258.276</td>\n",
       "      <td>[-1.570660416279928, -1.5707827371409913, -1.5...</td>\n",
       "      <td>[0.0, 0.0, 0.0, -0.08753828704357147, 0.0, 0.0]</td>\n",
       "      <td>[0.18218308687210083, 1.0735350847244263, 1.37...</td>\n",
       "      <td>[-0.13305178855972016, -0.443525353390802, 0.4...</td>\n",
       "      <td>[-1.5362262575268616e-05, -0.00740704821459850...</td>\n",
       "      <td>[0.014812691800918066, -0.0035357919273737524,...</td>\n",
       "      <td>[34.375, 36.875, 39.6875, 42.8125, 45.0, 45.3125]</td>\n",
       "      <td>1.124447</td>\n",
       "      <td>1</td>\n",
       "      <td>[-9.327810287475586, 0.2298433631658554, 0.191...</td>\n",
       "      <td>0.026350</td>\n",
       "      <td>0.506904</td>\n",
       "      <td>[47.55626678466797, 47.713924407958984, 47.670...</td>\n",
       "      <td>[-0.07999999976091744, -7.5630809928628735e-06...</td>\n",
       "      <td>[0.0, 0.0, 0.0]</td>\n",
       "      <td>0.071954</td>\n",
       "      <td>39.6250</td>\n",
       "      <td>0.891657</td>\n",
       "      <td>0</td>\n",
       "    </tr>\n",
       "    <tr>\n",
       "      <th>4</th>\n",
       "      <td>257258.326</td>\n",
       "      <td>[-1.570700470601217, -1.570839067498678, -1.57...</td>\n",
       "      <td>[0.0, 0.0, 0.0, -0.14845426380634308, 0.0, 0.0]</td>\n",
       "      <td>[0.1679745316505432, 1.0931836366653442, 1.374...</td>\n",
       "      <td>[-0.13306762017073243, -0.44405501412764015, 0...</td>\n",
       "      <td>[-2.5524599112393154e-05, -0.01234826561117640...</td>\n",
       "      <td>[-0.0066400665555922875, -0.33964563763481687,...</td>\n",
       "      <td>[34.375, 36.875, 39.6875, 42.75, 45.0, 45.3125]</td>\n",
       "      <td>1.072475</td>\n",
       "      <td>1</td>\n",
       "      <td>[-9.404424667358398, 0.3064578175544739, 0.057...</td>\n",
       "      <td>0.048680</td>\n",
       "      <td>0.457674</td>\n",
       "      <td>[47.55626678466797, 47.670928955078125, 47.685...</td>\n",
       "      <td>[-0.07999999868460166, -1.8077993842428327e-05...</td>\n",
       "      <td>[0.0, 0.0, 0.0]</td>\n",
       "      <td>0.066182</td>\n",
       "      <td>39.6875</td>\n",
       "      <td>0.750271</td>\n",
       "      <td>0</td>\n",
       "    </tr>\n",
       "  </tbody>\n",
       "</table>\n",
       "</div>"
      ],
      "text/plain": [
       "    Timestamp                             Actual Joint Positions  \\\n",
       "0  257258.126  [-1.5707390944110315, -1.5707948964885254, -1....   \n",
       "1  257258.176  [-1.5707176367389124, -1.570843359033102, -1.5...   \n",
       "2  257258.226  [-1.570730988179342, -1.5708185635008753, -1.5...   \n",
       "3  257258.276  [-1.570660416279928, -1.5707827371409913, -1.5...   \n",
       "4  257258.326  [-1.570700470601217, -1.570839067498678, -1.57...   \n",
       "\n",
       "                            Actual Joint Velocities  \\\n",
       "0                    [0.0, 0.0, 0.0, 0.0, 0.0, 0.0]   \n",
       "1                    [0.0, 0.0, 0.0, 0.0, 0.0, 0.0]   \n",
       "2  [0.0, 0.0, 0.0, -0.010884314775466919, 0.0, 0.0]   \n",
       "3   [0.0, 0.0, 0.0, -0.08753828704357147, 0.0, 0.0]   \n",
       "4   [0.0, 0.0, 0.0, -0.14845426380634308, 0.0, 0.0]   \n",
       "\n",
       "                               Actual Joint Currents  \\\n",
       "0  [0.18499481678009033, 1.1043120622634888, 1.38...   \n",
       "1  [0.16534548997879028, 1.0664139986038208, 1.40...   \n",
       "2  [0.1645040214061737, 1.0770467519760132, 1.354...   \n",
       "3  [0.18218308687210083, 1.0735350847244263, 1.37...   \n",
       "4  [0.1679745316505432, 1.0931836366653442, 1.374...   \n",
       "\n",
       "                        Actual Cartesian Coordinates  \\\n",
       "0  [-0.133089990415502, -0.4433227297722474, 0.48...   \n",
       "1  [-0.13308335724829182, -0.44333549960206997, 0...   \n",
       "2  [-0.13307894938257267, -0.44333179729023336, 0...   \n",
       "3  [-0.13305178855972016, -0.443525353390802, 0.4...   \n",
       "4  [-0.13306762017073243, -0.44405501412764015, 0...   \n",
       "\n",
       "                                   Actual Tool Speed  \\\n",
       "0                     [0.0, 0.0, 0.0, 0.0, 0.0, 0.0]   \n",
       "1                     [0.0, 0.0, 0.0, 0.0, 0.0, 0.0]   \n",
       "2  [-2.003684872597315e-06, -0.000926684519370717...   \n",
       "3  [-1.5362262575268616e-05, -0.00740704821459850...   \n",
       "4  [-2.5524599112393154e-05, -0.01234826561117640...   \n",
       "\n",
       "                                  Generalized Forces  \\\n",
       "0  [-0.015098106867198664, -0.38619858377727334, ...   \n",
       "1  [-0.04213328588448917, -0.4293152706290817, 0....   \n",
       "2  [0.05686369196465915, -0.2101876951251029, 0.9...   \n",
       "3  [0.014812691800918066, -0.0035357919273737524,...   \n",
       "4  [-0.0066400665555922875, -0.33964563763481687,...   \n",
       "\n",
       "                           Temperature of Each Joint  Execution Time  \\\n",
       "0  [34.375, 36.875, 39.6875, 42.8125, 45.0, 45.3125]        0.833027   \n",
       "1  [34.375, 36.875, 39.6875, 42.8125, 45.0, 45.3125]        0.898871   \n",
       "2  [34.375, 36.875, 39.6875, 42.8125, 45.0, 45.3125]        1.048140   \n",
       "3  [34.375, 36.875, 39.6875, 42.8125, 45.0, 45.3125]        1.124447   \n",
       "4    [34.375, 36.875, 39.6875, 42.75, 45.0, 45.3125]        1.072475   \n",
       "\n",
       "   Safety Status                                  Tool Acceleration  \\\n",
       "0              1  [-9.423578262329102, 0.26815059781074524, 0.11...   \n",
       "1              1  [-9.346963882446289, 0.2298433631658554, 0.114...   \n",
       "2              1  [-9.385271072387695, 0.2298433631658554, 0.191...   \n",
       "3              1  [-9.327810287475586, 0.2298433631658554, 0.191...   \n",
       "4              1  [-9.404424667358398, 0.3064578175544739, 0.057...   \n",
       "\n",
       "   Norm of Cartesion Linear Momentum  Robot Current  \\\n",
       "0                           0.000000       0.560617   \n",
       "1                           0.000000       0.497956   \n",
       "2                           0.004019       0.504669   \n",
       "3                           0.026350       0.506904   \n",
       "4                           0.048680       0.457674   \n",
       "\n",
       "                                      Joint Voltages  \\\n",
       "0  [47.48460006713867, 47.61359786987305, 47.6279...   \n",
       "1  [47.5275993347168, 47.64226150512695, 47.65659...   \n",
       "2  [47.513267517089844, 47.670928955078125, 47.67...   \n",
       "3  [47.55626678466797, 47.713924407958984, 47.670...   \n",
       "4  [47.55626678466797, 47.670928955078125, 47.685...   \n",
       "\n",
       "                                      Elbow Position   Elbow Velocity  \\\n",
       "0  [-0.07999999993886807, -4.2302395934749395e-06...  [0.0, 0.0, 0.0]   \n",
       "1  [-0.07999999890089683, -1.7749906051421094e-05...  [0.0, 0.0, 0.0]   \n",
       "2  [-0.07999999952532996, -1.0642838973058337e-05...  [0.0, 0.0, 0.0]   \n",
       "3  [-0.07999999976091744, -7.5630809928628735e-06...  [0.0, 0.0, 0.0]   \n",
       "4  [-0.07999999868460166, -1.8077993842428327e-05...  [0.0, 0.0, 0.0]   \n",
       "\n",
       "   Tool Current  Tool Temperature  TCP Force  Anomaly State  \n",
       "0      0.069408           39.6250   0.693609              0  \n",
       "1      0.064909           39.6250   0.685211              0  \n",
       "2      0.071274           39.6250   0.944428              0  \n",
       "3      0.071954           39.6250   0.891657              0  \n",
       "4      0.066182           39.6875   0.750271              0  "
      ]
     },
     "execution_count": 4,
     "metadata": {},
     "output_type": "execute_result"
    }
   ],
   "source": [
    "#store the CSV content in a dataframe\n",
    "df = pd.read_csv('./Data/right_arm.csv')\n",
    "df.head()"
   ]
  },
  {
   "cell_type": "markdown",
   "metadata": {},
   "source": [
    "## Pre-Processing"
   ]
  },
  {
   "cell_type": "markdown",
   "metadata": {},
   "source": [
    "This section will cover the pre-processing of the available dataframe. First, all blank spaces within the column names will be replaced by underlines. This will make working with the names a lot easier, as it allows for simple copy and paste shortcuts and avoid processing errors. Furthermore, the function extract_every_nth_row() can be used to reduce the proccessing time. It extracts every n´th row of the dataframe. Since one might run low computational resources, n can be adjusted to personal preferences or skipped entirely. \n",
    "\n",
    "Furthermore, there will  be a train and test split of all defined features and the target. Lastly, the index will be reseted."
   ]
  },
  {
   "cell_type": "code",
   "execution_count": 5,
   "metadata": {},
   "outputs": [],
   "source": [
    "#replace blank spaces in the column names with '_'\n",
    "df.columns = df.columns.str.replace(' ', '_')\n",
    "\n",
    "#use only required columns\n",
    "df = df[['Norm_of_Cartesion_Linear_Momentum', 'Robot_Current', 'Tool_Current', 'Tool_Temperature', 'TCP_Force', 'Anomaly_State']]\n",
    "\n",
    "################################\n",
    "##make it smaller for testing###\n",
    "#since the dataset is quite big \n",
    "#one can keep this code block, to\n",
    "#shrink the dataset#############\n",
    "def extract_every_nth_row(df, n):\n",
    "    new_df = df.iloc[::n].copy()\n",
    "    return new_df\n",
    "\n",
    "n = 100\n",
    "\n",
    "df = extract_every_nth_row(df, n)\n",
    "################################\n",
    "################################\n",
    "\n",
    "#seperate the features and the target\n",
    "#X and y \n",
    "#features\n",
    "X = df[['Norm_of_Cartesion_Linear_Momentum', 'Robot_Current', 'Tool_Current', 'Tool_Temperature', 'TCP_Force']]\n",
    "#target\n",
    "y = df['Anomaly_State'] \n",
    "\n",
    "#Train & Test Split\n",
    "#for now the testsize is 20% of the total dataset\n",
    "X_train, X_test, y_train, y_test = train_test_split(X, y, test_size=0.2, random_state=42)\n",
    "\n",
    "#reset the index to make the subsets iterateable again\n",
    "X_train = X_train.reset_index(drop=True)\n",
    "X_test = X_test.reset_index(drop=True)\n",
    "y_train = y_train.reset_index(drop=True)\n",
    "y_test = y_test.reset_index(drop=True)"
   ]
  },
  {
   "cell_type": "markdown",
   "metadata": {},
   "source": [
    "## Simulation"
   ]
  },
  {
   "cell_type": "markdown",
   "metadata": {},
   "source": [
    "The following code will focus on creating and running the simulation. The function start_machine() contains all previously created python scripts. By running start_machine() the function will simulate the startup of the robotic arm. Sensory data coming from teh simulation data set will be received. \n",
    "\n",
    "First, the code will make sure that the environment is correctly connected to the Azure instance. A browser window might pop-up and you will be asked to login with your personal credentials. Next, train_model() will be used to build a random forest prediction model. After that step is completed, simulated robotic arm will start sending sensory data to the digital environment. By running predict_model(), the algorithm will predict the current anomaly state for the machine given the pre-trained model. After that, the received prediction will be sent to the Digital Twin together with all received sensory data. Additionally, a dashboard-like plot will be displayed, showing all current workloads and the machines anomaly state. In case an anomaly is detected, an alarm will pop-up notifing the user. Furthermore, a SHAP bar plot will appear. This plot will show which component was relevant for the algorithm´s predictions. Domain-expert therefore, can take a closer look at the identified faulty components. \n",
    "\n",
    "This can be done untill the simulation data runs out, or the process has reached the predefined threshold (see \"set iterations for simulation run\").  "
   ]
  },
  {
   "cell_type": "code",
   "execution_count": 6,
   "metadata": {},
   "outputs": [],
   "source": [
    "def start_machine(model_name: str, df, df_sim, index):\n",
    "        print('Connecting to the Azure platform...')\n",
    "        service_client = dt.connect_azure()\n",
    "        \n",
    "        print('Machine starting up...')\n",
    "        print('Training ML algorithm...')\n",
    "        rf = ad.train_model(X_train, X_test, y_train, y_test)\n",
    "        \n",
    "        print('Model has been trained')\n",
    "        \n",
    "        #set as global to calculate resulting scores\n",
    "        global y_predicted\n",
    "        \n",
    "        #set empty list to store predictions\n",
    "        global y_predicted_list\n",
    "        y_predicted_list = []\n",
    "\n",
    "        #set iterations for simulation run\n",
    "        while index < 15:\n",
    "                y_predicted = ad.predict_model(X_test, index, rf)\n",
    "                y_predicted_list.append(y_predicted)\n",
    "                dt.update_machine('RoboArm', X_test, index, y_predicted)\n",
    "                dt.plot_twin_state()\n",
    "                \n",
    "                if y_predicted == 1:\n",
    "                        print('Anomaly detected!')\n",
    "                else:\n",
    "                        print('No anomaly detected.')\n",
    "                \n",
    "                index += 1\n",
    "        \n",
    "        print('Simulation complete. Generating SHAP beeswarm and partial dependence plot...')\n",
    "        \n",
    "        #Generate beeswarm plot\n",
    "        #beeswarm_plot = pm.create_shap_beeswarm_all(rf, X_test, y_predicted_list)\n",
    "        model = RandomForestClassifier(n_estimators=100, random_state=42)\n",
    "        model.fit(X_train, y_train)\n",
    "        y_predicted = model.predict(X_test)\n",
    "\n",
    "        explainer = shap.Explainer(model)\n",
    "        shap_values = explainer(X_test)\n",
    "\n",
    "        positive_indices = np.where(y_predicted == 1)[0]\n",
    "        shap_values_positive = shap_values[positive_indices, :, 1]\n",
    "\n",
    "        beeswarm = shap.plots.beeswarm(shap_values_positive)\n",
    "        \n",
    "        #Generate partial dependence plot\n",
    "        #This code generates a SHAP partial dependence plot for a specific instance.\n",
    "        #The instance can be chosen by chaning the sample_ind value.\n",
    "        sample_ind = 1\n",
    "        pdp = shap.partial_dependence_plot(\n",
    "           \"Tool_Temperature\", model.predict, X_test, model_expected_value=True,\n",
    "            feature_expected_value=True, ice=False,\n",
    "            shap_values=shap_values_positive[sample_ind:sample_ind+1,:]\n",
    "        )\n",
    "           \n",
    "        return y_predicted"
   ]
  },
  {
   "cell_type": "markdown",
   "metadata": {},
   "source": [
    "The following code chunk will start the machine. By defining the initial index the starting point within the simulation data set can be chosen. In this case, the X_test set was used as the simulation dataset, giving the possibility to compare prediction results with actual anomalies.\n",
    "\n",
    "It is worth mentioning, that SHAP might have issues displaying the plot due to interdepenencies to other plot modules. For most cases, the shap.initjs() should fix this issue. However, if the issue still occurs I would recommend storing the plot as a jpg or png and open it manually on your machine instead of within the IDE."
   ]
  },
  {
   "cell_type": "code",
   "execution_count": 7,
   "metadata": {},
   "outputs": [
    {
     "name": "stdout",
     "output_type": "stream",
     "text": [
      "No anomaly detected.\n",
      "Simulation complete. Generating SHAP beeswarm and partial dependence plot...\n"
     ]
    },
    {
     "data": {
      "text/plain": [
       "array([1, 0, 0, ..., 0, 0, 0], dtype=int64)"
      ]
     },
     "execution_count": 7,
     "metadata": {},
     "output_type": "execute_result"
    }
   ],
   "source": [
    "#set starting index for simulation data set\n",
    "index = 0\n",
    "df = df\n",
    "X_test\n",
    "shap.initjs()\n",
    "\n",
    "start_machine('RoboArm', df, X_test, index)"
   ]
  },
  {
   "cell_type": "markdown",
   "metadata": {},
   "source": [
    "### Simulation Results\n",
    "The following code can be used to make working and evaluating the digital twin´s performance a bit easier. "
   ]
  },
  {
   "cell_type": "code",
   "execution_count": 8,
   "metadata": {},
   "outputs": [
    {
     "name": "stdout",
     "output_type": "stream",
     "text": [
      "Confusion Matrix:\n",
      "[[9 4]\n",
      " [1 1]]\n",
      "Accuracy: 0.6666666666666666\n",
      "Precision: 0.2\n"
     ]
    },
    {
     "data": {
      "text/html": [
       "<div>\n",
       "<style scoped>\n",
       "    .dataframe tbody tr th:only-of-type {\n",
       "        vertical-align: middle;\n",
       "    }\n",
       "\n",
       "    .dataframe tbody tr th {\n",
       "        vertical-align: top;\n",
       "    }\n",
       "\n",
       "    .dataframe thead th {\n",
       "        text-align: right;\n",
       "    }\n",
       "</style>\n",
       "<table border=\"1\" class=\"dataframe\">\n",
       "  <thead>\n",
       "    <tr style=\"text-align: right;\">\n",
       "      <th></th>\n",
       "      <th>y_test</th>\n",
       "      <th>prediction_results</th>\n",
       "    </tr>\n",
       "  </thead>\n",
       "  <tbody>\n",
       "    <tr>\n",
       "      <th>0</th>\n",
       "      <td>0</td>\n",
       "      <td>[1]</td>\n",
       "    </tr>\n",
       "    <tr>\n",
       "      <th>1</th>\n",
       "      <td>0</td>\n",
       "      <td>[0]</td>\n",
       "    </tr>\n",
       "    <tr>\n",
       "      <th>2</th>\n",
       "      <td>0</td>\n",
       "      <td>[0]</td>\n",
       "    </tr>\n",
       "    <tr>\n",
       "      <th>3</th>\n",
       "      <td>0</td>\n",
       "      <td>[0]</td>\n",
       "    </tr>\n",
       "    <tr>\n",
       "      <th>4</th>\n",
       "      <td>0</td>\n",
       "      <td>[0]</td>\n",
       "    </tr>\n",
       "    <tr>\n",
       "      <th>5</th>\n",
       "      <td>0</td>\n",
       "      <td>[1]</td>\n",
       "    </tr>\n",
       "    <tr>\n",
       "      <th>6</th>\n",
       "      <td>0</td>\n",
       "      <td>[0]</td>\n",
       "    </tr>\n",
       "    <tr>\n",
       "      <th>7</th>\n",
       "      <td>0</td>\n",
       "      <td>[0]</td>\n",
       "    </tr>\n",
       "    <tr>\n",
       "      <th>8</th>\n",
       "      <td>0</td>\n",
       "      <td>[1]</td>\n",
       "    </tr>\n",
       "    <tr>\n",
       "      <th>9</th>\n",
       "      <td>0</td>\n",
       "      <td>[1]</td>\n",
       "    </tr>\n",
       "    <tr>\n",
       "      <th>10</th>\n",
       "      <td>1</td>\n",
       "      <td>[0]</td>\n",
       "    </tr>\n",
       "    <tr>\n",
       "      <th>11</th>\n",
       "      <td>0</td>\n",
       "      <td>[0]</td>\n",
       "    </tr>\n",
       "    <tr>\n",
       "      <th>12</th>\n",
       "      <td>0</td>\n",
       "      <td>[0]</td>\n",
       "    </tr>\n",
       "    <tr>\n",
       "      <th>13</th>\n",
       "      <td>1</td>\n",
       "      <td>[1]</td>\n",
       "    </tr>\n",
       "    <tr>\n",
       "      <th>14</th>\n",
       "      <td>0</td>\n",
       "      <td>[0]</td>\n",
       "    </tr>\n",
       "  </tbody>\n",
       "</table>\n",
       "</div>"
      ],
      "text/plain": [
       "    y_test prediction_results\n",
       "0        0                [1]\n",
       "1        0                [0]\n",
       "2        0                [0]\n",
       "3        0                [0]\n",
       "4        0                [0]\n",
       "5        0                [1]\n",
       "6        0                [0]\n",
       "7        0                [0]\n",
       "8        0                [1]\n",
       "9        0                [1]\n",
       "10       1                [0]\n",
       "11       0                [0]\n",
       "12       0                [0]\n",
       "13       1                [1]\n",
       "14       0                [0]"
      ]
     },
     "execution_count": 8,
     "metadata": {},
     "output_type": "execute_result"
    }
   ],
   "source": [
    "cm = confusion_matrix(y_test[:15], y_predicted_list)\n",
    "print(\"Confusion Matrix:\")\n",
    "print(cm)\n",
    "\n",
    "#Accuracy of simulation\n",
    "accuracy = accuracy_score(y_test[:15], y_predicted_list)\n",
    "print(\"Accuracy:\", accuracy)\n",
    "\n",
    "#Precision of simulation\n",
    "precision = precision_score (y_test[:15], y_predicted_list)\n",
    "print(\"Precision:\", precision)\n",
    "\n",
    "#F1 Score of simualtion\n",
    "#f1_score = f1_score(y_test[:15], y_predicted_list, average='weighted')\n",
    "#print(\"F1 score:\", f1_score)\n",
    "\n",
    "comparison_df = pd.DataFrame({\n",
    "        'y_test': y_test[:15], \n",
    "        'prediction_results': y_predicted_list\n",
    "    })\n",
    "comparison_df.head(50)"
   ]
  },
  {
   "cell_type": "markdown",
   "metadata": {},
   "source": [
    "### Beeswarm Plot to visualize SHAP values during Simulation"
   ]
  },
  {
   "cell_type": "code",
   "execution_count": 9,
   "metadata": {},
   "outputs": [
    {
     "ename": "KeyboardInterrupt",
     "evalue": "",
     "output_type": "error",
     "traceback": [
      "\u001b[1;31m---------------------------------------------------------------------------\u001b[0m",
      "\u001b[1;31mKeyboardInterrupt\u001b[0m                         Traceback (most recent call last)",
      "\u001b[1;32m~\\AppData\\Local\\Temp\\ipykernel_15656\\844363339.py\u001b[0m in \u001b[0;36m<module>\u001b[1;34m\u001b[0m\n\u001b[0;32m      5\u001b[0m \u001b[1;33m\u001b[0m\u001b[0m\n\u001b[0;32m      6\u001b[0m \u001b[0mexplainer\u001b[0m \u001b[1;33m=\u001b[0m \u001b[0mshap\u001b[0m\u001b[1;33m.\u001b[0m\u001b[0mExplainer\u001b[0m\u001b[1;33m(\u001b[0m\u001b[0mmodel\u001b[0m\u001b[1;33m)\u001b[0m\u001b[1;33m\u001b[0m\u001b[1;33m\u001b[0m\u001b[0m\n\u001b[1;32m----> 7\u001b[1;33m \u001b[0mshap_values\u001b[0m \u001b[1;33m=\u001b[0m \u001b[0mexplainer\u001b[0m\u001b[1;33m(\u001b[0m\u001b[0mX_test\u001b[0m\u001b[1;33m)\u001b[0m\u001b[1;33m\u001b[0m\u001b[1;33m\u001b[0m\u001b[0m\n\u001b[0m\u001b[0;32m      8\u001b[0m \u001b[1;33m\u001b[0m\u001b[0m\n\u001b[0;32m      9\u001b[0m \u001b[0mpositive_indices\u001b[0m \u001b[1;33m=\u001b[0m \u001b[0mnp\u001b[0m\u001b[1;33m.\u001b[0m\u001b[0mwhere\u001b[0m\u001b[1;33m(\u001b[0m\u001b[0my_predicted\u001b[0m \u001b[1;33m==\u001b[0m \u001b[1;36m1\u001b[0m\u001b[1;33m)\u001b[0m\u001b[1;33m[\u001b[0m\u001b[1;36m0\u001b[0m\u001b[1;33m]\u001b[0m\u001b[1;33m\u001b[0m\u001b[1;33m\u001b[0m\u001b[0m\n",
      "\u001b[1;32me:\\Python\\lib\\site-packages\\shap\\explainers\\_tree.py\u001b[0m in \u001b[0;36m__call__\u001b[1;34m(self, X, y, interactions, check_additivity)\u001b[0m\n\u001b[0;32m    215\u001b[0m \u001b[1;33m\u001b[0m\u001b[0m\n\u001b[0;32m    216\u001b[0m         \u001b[1;32mif\u001b[0m \u001b[1;32mnot\u001b[0m \u001b[0minteractions\u001b[0m\u001b[1;33m:\u001b[0m\u001b[1;33m\u001b[0m\u001b[1;33m\u001b[0m\u001b[0m\n\u001b[1;32m--> 217\u001b[1;33m             \u001b[0mv\u001b[0m \u001b[1;33m=\u001b[0m \u001b[0mself\u001b[0m\u001b[1;33m.\u001b[0m\u001b[0mshap_values\u001b[0m\u001b[1;33m(\u001b[0m\u001b[0mX\u001b[0m\u001b[1;33m,\u001b[0m \u001b[0my\u001b[0m\u001b[1;33m=\u001b[0m\u001b[0my\u001b[0m\u001b[1;33m,\u001b[0m \u001b[0mfrom_call\u001b[0m\u001b[1;33m=\u001b[0m\u001b[1;32mTrue\u001b[0m\u001b[1;33m,\u001b[0m \u001b[0mcheck_additivity\u001b[0m\u001b[1;33m=\u001b[0m\u001b[0mcheck_additivity\u001b[0m\u001b[1;33m,\u001b[0m \u001b[0mapproximate\u001b[0m\u001b[1;33m=\u001b[0m\u001b[0mself\u001b[0m\u001b[1;33m.\u001b[0m\u001b[0mapproximate\u001b[0m\u001b[1;33m)\u001b[0m\u001b[1;33m\u001b[0m\u001b[1;33m\u001b[0m\u001b[0m\n\u001b[0m\u001b[0;32m    218\u001b[0m             \u001b[1;32mif\u001b[0m \u001b[0mtype\u001b[0m\u001b[1;33m(\u001b[0m\u001b[0mv\u001b[0m\u001b[1;33m)\u001b[0m \u001b[1;32mis\u001b[0m \u001b[0mlist\u001b[0m\u001b[1;33m:\u001b[0m\u001b[1;33m\u001b[0m\u001b[1;33m\u001b[0m\u001b[0m\n\u001b[0;32m    219\u001b[0m                 \u001b[0mv\u001b[0m \u001b[1;33m=\u001b[0m \u001b[0mnp\u001b[0m\u001b[1;33m.\u001b[0m\u001b[0mstack\u001b[0m\u001b[1;33m(\u001b[0m\u001b[0mv\u001b[0m\u001b[1;33m,\u001b[0m \u001b[0maxis\u001b[0m\u001b[1;33m=\u001b[0m\u001b[1;33m-\u001b[0m\u001b[1;36m1\u001b[0m\u001b[1;33m)\u001b[0m \u001b[1;31m# put outputs at the end\u001b[0m\u001b[1;33m\u001b[0m\u001b[1;33m\u001b[0m\u001b[0m\n",
      "\u001b[1;32me:\\Python\\lib\\site-packages\\shap\\explainers\\_tree.py\u001b[0m in \u001b[0;36mshap_values\u001b[1;34m(self, X, y, tree_limit, approximate, check_additivity, from_call)\u001b[0m\n\u001b[0;32m    406\u001b[0m             )\n\u001b[0;32m    407\u001b[0m \u001b[1;33m\u001b[0m\u001b[0m\n\u001b[1;32m--> 408\u001b[1;33m         \u001b[0mout\u001b[0m \u001b[1;33m=\u001b[0m \u001b[0mself\u001b[0m\u001b[1;33m.\u001b[0m\u001b[0m_get_shap_output\u001b[0m\u001b[1;33m(\u001b[0m\u001b[0mphi\u001b[0m\u001b[1;33m,\u001b[0m \u001b[0mflat_output\u001b[0m\u001b[1;33m)\u001b[0m\u001b[1;33m\u001b[0m\u001b[1;33m\u001b[0m\u001b[0m\n\u001b[0m\u001b[0;32m    409\u001b[0m         \u001b[1;32mif\u001b[0m \u001b[0mcheck_additivity\u001b[0m \u001b[1;32mand\u001b[0m \u001b[0mself\u001b[0m\u001b[1;33m.\u001b[0m\u001b[0mmodel\u001b[0m\u001b[1;33m.\u001b[0m\u001b[0mmodel_output\u001b[0m \u001b[1;33m==\u001b[0m \u001b[1;34m\"raw\"\u001b[0m\u001b[1;33m:\u001b[0m\u001b[1;33m\u001b[0m\u001b[1;33m\u001b[0m\u001b[0m\n\u001b[0;32m    410\u001b[0m             \u001b[0mself\u001b[0m\u001b[1;33m.\u001b[0m\u001b[0massert_additivity\u001b[0m\u001b[1;33m(\u001b[0m\u001b[0mout\u001b[0m\u001b[1;33m,\u001b[0m \u001b[0mself\u001b[0m\u001b[1;33m.\u001b[0m\u001b[0mmodel\u001b[0m\u001b[1;33m.\u001b[0m\u001b[0mpredict\u001b[0m\u001b[1;33m(\u001b[0m\u001b[0mX\u001b[0m\u001b[1;33m)\u001b[0m\u001b[1;33m)\u001b[0m\u001b[1;33m\u001b[0m\u001b[1;33m\u001b[0m\u001b[0m\n",
      "\u001b[1;31mKeyboardInterrupt\u001b[0m: "
     ]
    }
   ],
   "source": [
    "#This code will print a SHAP beeswarm plot of the simulation data (X_test)\n",
    "model = RandomForestClassifier(n_estimators=100, random_state=42)\n",
    "model.fit(X_train, y_train)\n",
    "y_predicted = model.predict(X_test)\n",
    "\n",
    "explainer = shap.Explainer(model)\n",
    "shap_values = explainer(X_test)\n",
    "\n",
    "positive_indices = np.where(y_predicted == 1)[0]\n",
    "shap_values_positive = shap_values[positive_indices, :, 1]\n",
    "\n",
    "shap.plots.beeswarm(shap_values_positive)"
   ]
  },
  {
   "cell_type": "markdown",
   "metadata": {},
   "source": [
    "### Partial Dependence Plot "
   ]
  },
  {
   "cell_type": "code",
   "execution_count": null,
   "metadata": {},
   "outputs": [
    {
     "data": {
      "text/plain": [
       "(array([  10,   13,   25,   26,   27,   31,   44,   55,   67,   68,   76,\n",
       "          82,   83,  100,  101,  106,  114,  116,  124,  128,  131,  132,\n",
       "         139,  143,  150,  172,  175,  176,  181,  183,  186,  194,  202,\n",
       "         212,  216,  218,  221,  223,  224,  231,  233,  234,  238,  244,\n",
       "         248,  258,  259,  270,  282,  288,  301,  302,  304,  312,  313,\n",
       "         314,  317,  322,  349,  350,  356,  360,  383,  387,  388,  392,\n",
       "         399,  400,  402,  404,  406,  411,  422,  451,  454,  466,  470,\n",
       "         474,  475,  477,  481,  485,  487,  489,  497,  502,  503,  504,\n",
       "         524,  525,  527,  528,  530,  531,  542,  546,  548,  553,  556,\n",
       "         562,  571,  572,  575,  581,  586,  588,  589,  598,  599,  605,\n",
       "         610,  611,  619,  620,  637,  638,  641,  644,  654,  655,  665,\n",
       "         667,  676,  680,  687,  689,  696,  701,  705,  706,  711,  713,\n",
       "         722,  728,  739,  749,  758,  759,  777,  778,  779,  780,  795,\n",
       "         797,  806,  807,  810,  824,  837,  839,  849,  856,  863,  871,\n",
       "         872,  877,  883,  891,  893,  897,  899,  902,  904,  908,  914,\n",
       "         916,  917,  920,  922,  924,  928,  932,  937,  942,  947,  964,\n",
       "         968,  975,  979,  980,  985,  986,  993,  995, 1000, 1024, 1030,\n",
       "        1042, 1043, 1044, 1045, 1049, 1053, 1061, 1062, 1067, 1073, 1077,\n",
       "        1082, 1088, 1089, 1095, 1103, 1104, 1107, 1109, 1132, 1134, 1136,\n",
       "        1148, 1169, 1176, 1177, 1178, 1181, 1182, 1183, 1191, 1192, 1204,\n",
       "        1206, 1207, 1214, 1216, 1217, 1220, 1226, 1233, 1242, 1253, 1254,\n",
       "        1262, 1280, 1288, 1301, 1304, 1311, 1313, 1316, 1329, 1332, 1335,\n",
       "        1344, 1350, 1351, 1360, 1365, 1369, 1372, 1374, 1378, 1379, 1410,\n",
       "        1414, 1418, 1425, 1428, 1444, 1446, 1447, 1457, 1458, 1464, 1465,\n",
       "        1470, 1478, 1487, 1490, 1495, 1504, 1506, 1528, 1529, 1531, 1551,\n",
       "        1553, 1555, 1559, 1567, 1568, 1572, 1577, 1583, 1592, 1596, 1597,\n",
       "        1601, 1611, 1616, 1621, 1630, 1635, 1641, 1654, 1658, 1666, 1672,\n",
       "        1675, 1682, 1684, 1697, 1704, 1713, 1714, 1716, 1717, 1719, 1720,\n",
       "        1730, 1731, 1732, 1739, 1750, 1752, 1758, 1760, 1763, 1769, 1770,\n",
       "        1771, 1785, 1787, 1795, 1798, 1799, 1802, 1810, 1811, 1814, 1815,\n",
       "        1822, 1824, 1825, 1826, 1831, 1833, 1835, 1840, 1847, 1852, 1853,\n",
       "        1857, 1864, 1870, 1875, 1879, 1884, 1890, 1902, 1905, 1912, 1913,\n",
       "        1914, 1928, 1931, 1938, 1945, 1949, 1961, 1967, 1974, 1975, 1979,\n",
       "        1988, 1989, 1992, 1997, 1998, 2002, 2010, 2015, 2016, 2018, 2021,\n",
       "        2026, 2031, 2032, 2033, 2035, 2037, 2038, 2039, 2043, 2046, 2052,\n",
       "        2063, 2065, 2069, 2078, 2079, 2081, 2087, 2093, 2094, 2097, 2101,\n",
       "        2102, 2104, 2105, 2106, 2120, 2121, 2127, 2134, 2135, 2140, 2146,\n",
       "        2149, 2151, 2152, 2155, 2159, 2165, 2180, 2192, 2193, 2201, 2207,\n",
       "        2217, 2223, 2225, 2232, 2233, 2235, 2236, 2240, 2254, 2255, 2260,\n",
       "        2262, 2264, 2273, 2283, 2285, 2292, 2294, 2297, 2306, 2307, 2309,\n",
       "        2313, 2325, 2336, 2339, 2342, 2348, 2351, 2373, 2378, 2379, 2380,\n",
       "        2393, 2406, 2409, 2411, 2413, 2414, 2418, 2422, 2428, 2429, 2439,\n",
       "        2440, 2445, 2446, 2447, 2448, 2450, 2454, 2461, 2469, 2471, 2476,\n",
       "        2477, 2486, 2489, 2497, 2501, 2510, 2513, 2523, 2530, 2531, 2536,\n",
       "        2537, 2550, 2551, 2553, 2556, 2580, 2592, 2597, 2608, 2628, 2631,\n",
       "        2633, 2635, 2636, 2644, 2646, 2657, 2662, 2669, 2671, 2681, 2694,\n",
       "        2695, 2704, 2710, 2713, 2715, 2716, 2718, 2719, 2727, 2742, 2743,\n",
       "        2745, 2749, 2762, 2769, 2772, 2773, 2782, 2784, 2788, 2789, 2792,\n",
       "        2808, 2809, 2818, 2819, 2829, 2844, 2847, 2850, 2857, 2861, 2866,\n",
       "        2874, 2875, 2904, 2908, 2917, 2922, 2924, 2932, 2934, 2939, 2942,\n",
       "        2943, 2949, 2955, 2975, 2976, 2985, 2987, 2988, 2995, 2996, 2997,\n",
       "        3001, 3002, 3013, 3043, 3045, 3048, 3053, 3059, 3063, 3069, 3071,\n",
       "        3077, 3078, 3081, 3085, 3092, 3093, 3096, 3100, 3102, 3105, 3107,\n",
       "        3108, 3125, 3127, 3140, 3142, 3143, 3146, 3150, 3151, 3153, 3156,\n",
       "        3162, 3165, 3166, 3169, 3170, 3172, 3176, 3178, 3179, 3181, 3190,\n",
       "        3201, 3203, 3205, 3210, 3216, 3217, 3220, 3226, 3230, 3235, 3236,\n",
       "        3239, 3254, 3261, 3262, 3268, 3270, 3273, 3279, 3287, 3288, 3292,\n",
       "        3295, 3300, 3303, 3315, 3317, 3322, 3325, 3331, 3333, 3338, 3342,\n",
       "        3353, 3356, 3358, 3360, 3361, 3362, 3369, 3373, 3374, 3376, 3378,\n",
       "        3381, 3396, 3399, 3403, 3404, 3405, 3431, 3438, 3446, 3447, 3449,\n",
       "        3451, 3452, 3459, 3460, 3465, 3466, 3467, 3476, 3479, 3485, 3492,\n",
       "        3493, 3494, 3504, 3507, 3515, 3518, 3521], dtype=int64),)"
      ]
     },
     "execution_count": 9,
     "metadata": {},
     "output_type": "execute_result"
    }
   ],
   "source": [
    "#This code generates a SHAP partial dependence plot for a specific feature.\n",
    "#The feature can be chosen by changing the first function parameter.\n",
    "\n",
    "#select only positive entries \n",
    "selected_X_test = X_test.iloc[positive_indices, :]\n",
    "selected_X_test\n",
    "\n",
    "selected_y_test = np.where(y_test == 1)\n",
    "selected_y_test"
   ]
  },
  {
   "cell_type": "code",
   "execution_count": null,
   "metadata": {},
   "outputs": [],
   "source": [
    "#show partial dependence plot\n",
    "sample_ind=4\n",
    "shap.partial_dependence_plot(\n",
    "    \"Tool_Temperature\", model.predict, selected_X_test, model_expected_value=True,\n",
    "    feature_expected_value=True, ice=False,\n",
    "    shap_values=shap_values_positive[sample_ind:sample_ind+1,:]\n",
    ")"
   ]
  },
  {
   "cell_type": "code",
   "execution_count": null,
   "metadata": {},
   "outputs": [
    {
     "data": {
      "text/plain": [
       "Norm_of_Cartesion_Linear_Momentum     0.000000\n",
       "Robot_Current                         0.502433\n",
       "Tool_Current                          0.070681\n",
       "Tool_Temperature                     40.625000\n",
       "TCP_Force                            13.234280\n",
       "Name: 13, dtype: float64"
      ]
     },
     "execution_count": 47,
     "metadata": {},
     "output_type": "execute_result"
    }
   ],
   "source": [
    "selected_X_test.iloc[4]"
   ]
  }
 ],
 "metadata": {
  "kernelspec": {
   "display_name": "Python 3",
   "language": "python",
   "name": "python3"
  },
  "language_info": {
   "codemirror_mode": {
    "name": "ipython",
    "version": 3
   },
   "file_extension": ".py",
   "mimetype": "text/x-python",
   "name": "python",
   "nbconvert_exporter": "python",
   "pygments_lexer": "ipython3",
   "version": "3.7.9"
  },
  "orig_nbformat": 4
 },
 "nbformat": 4,
 "nbformat_minor": 2
}
